{
 "cells": [
  {
   "cell_type": "code",
   "execution_count": 109,
   "id": "86fb57f6",
   "metadata": {},
   "outputs": [],
   "source": [
    "import scipy.io as scio\n",
    "import os\n",
    "import os.path as osp"
   ]
  },
  {
   "cell_type": "code",
   "execution_count": 110,
   "id": "6db6db4e",
   "metadata": {},
   "outputs": [],
   "source": [
    "path_mat = '/home/phj/Desktop/AcfCaltech_INRIA_3Detector.mat'\n",
    "data = scio.loadmat(path_mat)"
   ]
  },
  {
   "cell_type": "code",
   "execution_count": 111,
   "id": "92df3cea",
   "metadata": {},
   "outputs": [],
   "source": [
    "detector = data['detector']\n",
    "opts = detector[0][0][0][0][0]\n",
    "pyramid = opts[0]\n",
    "modelDs = opts[2]\n",
    "modelDsPad = opts[3]\n",
    "boost = opts[9]"
   ]
  },
  {
   "cell_type": "code",
   "execution_count": 112,
   "id": "9ff6037e",
   "metadata": {},
   "outputs": [
    {
     "name": "stdout",
     "output_type": "stream",
     "text": [
      "[[2]]\n"
     ]
    }
   ],
   "source": [
    "pChns=pyramid[0][0][0]\n",
    "nPerOct = pyramid[0][0][1]\n",
    "shrink = pChns[0][0][0]\n",
    "print(shrink)"
   ]
  },
  {
   "cell_type": "code",
   "execution_count": 113,
   "id": "deb4d64f",
   "metadata": {},
   "outputs": [
    {
     "name": "stdout",
     "output_type": "stream",
     "text": [
      "[[5]]\n",
      "[[4096]]\n"
     ]
    }
   ],
   "source": [
    "\n",
    "len(boost[0][0][1])\n",
    "Tree_maxDepth = boost[0][0][0][0][0][1]\n",
    "nWeak = boost[0][0][1]\n",
    "print(Tree_maxDepth)\n",
    "print(nWeak)"
   ]
  },
  {
   "cell_type": "code",
   "execution_count": 114,
   "id": "e86d73dd",
   "metadata": {},
   "outputs": [
    {
     "name": "stdout",
     "output_type": "stream",
     "text": [
      "(819, 61)\n"
     ]
    }
   ],
   "source": [
    "# print(detector[0][0][1])\n",
    "len(detector[0][0][1][0][0])\n",
    "clf = detector[0][0][1][0][0]\n",
    "fids = clf[0].transpose()\n",
    "Thrss = clf[1].transpose()\n",
    "childs = clf[2].transpose()\n",
    "HSS = clf[3].transpose()\n",
    "\n",
    "print(fids.shape)"
   ]
  },
  {
   "cell_type": "code",
   "execution_count": 116,
   "id": "2f6d311a",
   "metadata": {},
   "outputs": [],
   "source": [
    "import xml.etree.ElementTree as ET\n",
    "root = ET.Element(\"CascadeModel\")\n",
    "root.text=\"\\n  \"\n",
    "\n",
    "numberWeaks = ET.SubElement(root, \"NumberWeaks\")\n",
    "numberWeaks.text =  str(nWeak[0][0])\n",
    "\n",
    "PerOct = ET.SubElement(root, \"nPerOct\")\n",
    "PerOct.text = str(nPerOct[0][0])\n",
    " \n",
    "\n",
    "Width = ET.SubElement(root, \"Width\")\n",
    "Width.text = str(modelDs[0][1])\n",
    " \n",
    "\n",
    "Height = ET.SubElement(root, \"Height\")\n",
    "Height.text = str(modelDs[0][0])\n",
    " \n",
    "\n",
    "WidthPad = ET.SubElement(root, \"WidthPad\")\n",
    "WidthPad.text = str(modelDsPad[0][1])*1\n",
    "\n",
    "HeightPad = ET.SubElement(root, \"HeightPad\")\n",
    "HeightPad.text = str(modelDsPad[0][0])\n",
    "\n",
    "ModelDepth = ET.SubElement(root, \"ModelDepth\")\n",
    "ModelDepth.text = str(Tree_maxDepth[0][0])\n",
    "\n",
    "\n",
    "Shrinking = ET.SubElement(root, \"Shrinking\")\n",
    "Shrinking.text = str(shrink[0][0])\n",
    "\n",
    "Childs = ET.SubElement(root, \"Childs\")\n",
    "for child in childs:\n",
    "    Child = ET.SubElement(Childs, \"Child\")\n",
    "    for value in child:\n",
    "        Field = ET.SubElement(Child, \"Field\")\n",
    "        Field.text = str(value)\n",
    "\n",
    "\n",
    "Fids = ET.SubElement(root, \"Fids\")\n",
    "for fid in fids:\n",
    "    Fid = ET.SubElement(Fids, \"Fid\")\n",
    "    for value in fid:\n",
    "        Field = ET.SubElement(Fid, \"Field\")\n",
    "        Field.text = str(value)\n",
    "\n",
    "Thrs = ET.SubElement(root, \"Thrs\")\n",
    "for thrs in Thrss:\n",
    "    threshold = ET.SubElement(Thrs, \"threshold\")\n",
    "    for value in thrs:\n",
    "        Field = ET.SubElement(threshold, \"Field\")\n",
    "        Field.text = str(value)\n",
    "\n",
    "\n",
    "hss = ET.SubElement(root, \"hss\")\n",
    "for hs in HSS:\n",
    "    value = ET.SubElement(hss, \"value\")\n",
    "    for val in hs:\n",
    "        Field = ET.SubElement(value, \"Field\")\n",
    "        Field.text = str(val)\n",
    "\n",
    "\n",
    "tree = ET.ElementTree(root)\n",
    "tree.write(\"/home/phj/Desktop/test_model.xml\")\n"
   ]
  },
  {
   "cell_type": "code",
   "execution_count": null,
   "id": "d7dc0501",
   "metadata": {},
   "outputs": [],
   "source": []
  }
 ],
 "metadata": {
  "kernelspec": {
   "display_name": "Python 3 (ipykernel)",
   "language": "python",
   "name": "python3"
  },
  "language_info": {
   "codemirror_mode": {
    "name": "ipython",
    "version": 3
   },
   "file_extension": ".py",
   "mimetype": "text/x-python",
   "name": "python",
   "nbconvert_exporter": "python",
   "pygments_lexer": "ipython3",
   "version": "3.8.10"
  }
 },
 "nbformat": 4,
 "nbformat_minor": 5
}
